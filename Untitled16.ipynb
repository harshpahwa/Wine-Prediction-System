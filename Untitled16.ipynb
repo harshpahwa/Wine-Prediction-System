{
 "cells": [
  {
   "cell_type": "code",
   "execution_count": 1,
   "id": "75993c6c",
   "metadata": {},
   "outputs": [
    {
     "name": "stderr",
     "output_type": "stream",
     "text": [
      "::1 - - [2022-11-25 01:58:40] \"GET / HTTP/1.1\" 200 6304 0.010004\n",
      "Traceback (most recent call last):\n",
      "  File \"C:\\Users\\harsh\\anaconda3\\lib\\site-packages\\gevent\\_ffi\\loop.py\", line 270, in python_check_callback\n",
      "    def python_check_callback(self, watcher_ptr): # pylint:disable=unused-argument\n",
      "KeyboardInterrupt\n",
      "2022-11-24T20:28:56Z\n"
     ]
    },
    {
     "ename": "KeyboardInterrupt",
     "evalue": "",
     "output_type": "error",
     "traceback": [
      "\u001b[1;31m---------------------------------------------------------------------------\u001b[0m",
      "\u001b[1;31mKeyboardInterrupt\u001b[0m                         Traceback (most recent call last)",
      "Input \u001b[1;32mIn [1]\u001b[0m, in \u001b[0;36m<cell line: 33>\u001b[1;34m()\u001b[0m\n\u001b[0;32m     33\u001b[0m \u001b[38;5;28;01mif\u001b[39;00m \u001b[38;5;18m__name__\u001b[39m \u001b[38;5;241m==\u001b[39m \u001b[38;5;124m'\u001b[39m\u001b[38;5;124m__main__\u001b[39m\u001b[38;5;124m'\u001b[39m:\n\u001b[0;32m     34\u001b[0m     \u001b[38;5;66;03m# Debug/Development\u001b[39;00m\n\u001b[0;32m     35\u001b[0m     \u001b[38;5;66;03m# app.run(debug=True, host=\"0.0.0.0\", port=\"5000\")\u001b[39;00m\n\u001b[0;32m     36\u001b[0m     \u001b[38;5;66;03m# Production\u001b[39;00m\n\u001b[0;32m     37\u001b[0m     http_server \u001b[38;5;241m=\u001b[39m WSGIServer((\u001b[38;5;124m'\u001b[39m\u001b[38;5;124m'\u001b[39m, \u001b[38;5;241m5000\u001b[39m), app)\n\u001b[1;32m---> 38\u001b[0m     \u001b[43mhttp_server\u001b[49m\u001b[38;5;241;43m.\u001b[39;49m\u001b[43mserve_forever\u001b[49m\u001b[43m(\u001b[49m\u001b[43m)\u001b[49m\n",
      "File \u001b[1;32m~\\anaconda3\\lib\\site-packages\\gevent\\baseserver.py:400\u001b[0m, in \u001b[0;36mBaseServer.serve_forever\u001b[1;34m(self, stop_timeout)\u001b[0m\n\u001b[0;32m    398\u001b[0m     \u001b[38;5;28mself\u001b[39m\u001b[38;5;241m.\u001b[39mstart()\n\u001b[0;32m    399\u001b[0m \u001b[38;5;28;01mtry\u001b[39;00m:\n\u001b[1;32m--> 400\u001b[0m     \u001b[38;5;28;43mself\u001b[39;49m\u001b[38;5;241;43m.\u001b[39;49m\u001b[43m_stop_event\u001b[49m\u001b[38;5;241;43m.\u001b[39;49m\u001b[43mwait\u001b[49m\u001b[43m(\u001b[49m\u001b[43m)\u001b[49m\n\u001b[0;32m    401\u001b[0m \u001b[38;5;28;01mfinally\u001b[39;00m:\n\u001b[0;32m    402\u001b[0m     Greenlet\u001b[38;5;241m.\u001b[39mspawn(\u001b[38;5;28mself\u001b[39m\u001b[38;5;241m.\u001b[39mstop, timeout\u001b[38;5;241m=\u001b[39mstop_timeout)\u001b[38;5;241m.\u001b[39mjoin()\n",
      "File \u001b[1;32msrc\\\\gevent\\\\event.py:163\u001b[0m, in \u001b[0;36mgevent._gevent_cevent.Event.wait\u001b[1;34m()\u001b[0m\n",
      "File \u001b[1;32msrc\\\\gevent\\\\_abstract_linkable.py:521\u001b[0m, in \u001b[0;36mgevent._gevent_c_abstract_linkable.AbstractLinkable._wait\u001b[1;34m()\u001b[0m\n",
      "File \u001b[1;32msrc\\\\gevent\\\\_abstract_linkable.py:487\u001b[0m, in \u001b[0;36mgevent._gevent_c_abstract_linkable.AbstractLinkable._wait_core\u001b[1;34m()\u001b[0m\n",
      "File \u001b[1;32msrc\\\\gevent\\\\_abstract_linkable.py:490\u001b[0m, in \u001b[0;36mgevent._gevent_c_abstract_linkable.AbstractLinkable._wait_core\u001b[1;34m()\u001b[0m\n",
      "File \u001b[1;32msrc\\\\gevent\\\\_abstract_linkable.py:442\u001b[0m, in \u001b[0;36mgevent._gevent_c_abstract_linkable.AbstractLinkable._AbstractLinkable__wait_to_be_notified\u001b[1;34m()\u001b[0m\n",
      "File \u001b[1;32msrc\\\\gevent\\\\_abstract_linkable.py:451\u001b[0m, in \u001b[0;36mgevent._gevent_c_abstract_linkable.AbstractLinkable._switch_to_hub\u001b[1;34m()\u001b[0m\n",
      "File \u001b[1;32msrc\\\\gevent\\\\_greenlet_primitives.py:61\u001b[0m, in \u001b[0;36mgevent._gevent_c_greenlet_primitives.SwitchOutGreenletWithLoop.switch\u001b[1;34m()\u001b[0m\n",
      "File \u001b[1;32msrc\\\\gevent\\\\_greenlet_primitives.py:65\u001b[0m, in \u001b[0;36mgevent._gevent_c_greenlet_primitives.SwitchOutGreenletWithLoop.switch\u001b[1;34m()\u001b[0m\n",
      "File \u001b[1;32msrc\\\\gevent\\\\_gevent_c_greenlet_primitives.pxd:35\u001b[0m, in \u001b[0;36mgevent._gevent_c_greenlet_primitives._greenlet_switch\u001b[1;34m()\u001b[0m\n",
      "File \u001b[1;32m~\\anaconda3\\lib\\site-packages\\gevent\\_ffi\\loop.py:270\u001b[0m, in \u001b[0;36mAbstractCallbacks.python_check_callback\u001b[1;34m(self, watcher_ptr)\u001b[0m\n\u001b[0;32m    267\u001b[0m     watcher\u001b[38;5;241m.\u001b[39mstop()\n\u001b[0;32m    269\u001b[0m \u001b[38;5;28;01mif\u001b[39;00m \u001b[38;5;129;01mnot\u001b[39;00m PYPY:\n\u001b[1;32m--> 270\u001b[0m     \u001b[38;5;28;01mdef\u001b[39;00m \u001b[38;5;21mpython_check_callback\u001b[39m(\u001b[38;5;28mself\u001b[39m, watcher_ptr): \u001b[38;5;66;03m# pylint:disable=unused-argument\u001b[39;00m\n\u001b[0;32m    271\u001b[0m         \u001b[38;5;66;03m# If we have the onerror callback, this is a no-op; all the real\u001b[39;00m\n\u001b[0;32m    272\u001b[0m         \u001b[38;5;66;03m# work to rethrow the exception is done by the onerror callback\u001b[39;00m\n\u001b[0;32m    273\u001b[0m \n\u001b[0;32m    274\u001b[0m         \u001b[38;5;66;03m# NOTE: Unlike the rest of the functions, this is called with a pointer\u001b[39;00m\n\u001b[0;32m    275\u001b[0m         \u001b[38;5;66;03m# to the C level structure, *not* a pointer to the void* that represents a\u001b[39;00m\n\u001b[0;32m    276\u001b[0m         \u001b[38;5;66;03m# <cdata> for the Python Watcher object.\u001b[39;00m\n\u001b[0;32m    277\u001b[0m         \u001b[38;5;28;01mpass\u001b[39;00m\n\u001b[0;32m    278\u001b[0m \u001b[38;5;28;01melse\u001b[39;00m: \u001b[38;5;66;03m# PyPy\u001b[39;00m\n\u001b[0;32m    279\u001b[0m     \u001b[38;5;66;03m# On PyPy, we need the function to have some sort of body, otherwise\u001b[39;00m\n\u001b[0;32m    280\u001b[0m     \u001b[38;5;66;03m# the signal exceptions don't always get caught, *especially* with\u001b[39;00m\n\u001b[1;32m   (...)\u001b[0m\n\u001b[0;32m    284\u001b[0m     \u001b[38;5;66;03m# test_socket's test_sendall_interrupted can hang.\u001b[39;00m\n\u001b[0;32m    285\u001b[0m     \u001b[38;5;66;03m# See https://github.com/gevent/gevent/issues/1112\u001b[39;00m\n",
      "\u001b[1;31mKeyboardInterrupt\u001b[0m: "
     ]
    }
   ],
   "source": [
    "from flask import Flask,request, url_for, redirect, render_template\n",
    "import pickle\n",
    "import numpy as np\n",
    "from gevent.pywsgi import WSGIServer\n",
    "\n",
    "app = Flask(__name__)\n",
    "\n",
    "model=pickle.load(open('model.pkl','rb'))\n",
    "\n",
    "\n",
    "@app.route('/')\n",
    "def hello_world():\n",
    "    return render_template(\"new.html\")\n",
    "\n",
    "\n",
    "@app.route('/predict',methods=['POST','GET'])\n",
    "def predict():\n",
    "    int_features=[float(x) for x in request.form.values()]\n",
    "    finall=np.asarray(int_features)\n",
    "    final=finall.reshape(1,-1)\n",
    "    print(finall)\n",
    "    print(final)\n",
    "    output=model.predict(final)\n",
    "    print(output)\n",
    "    if(output==1):\n",
    "        output = \"Good\"\n",
    "    else:\n",
    "         output = \"Bad\"\n",
    "    return render_template('new.html',pred='wine is {}'.format(output))\n",
    "    \n",
    "        \n",
    "\n",
    "if __name__ == '__main__':\n",
    "    # Debug/Development\n",
    "    # app.run(debug=True, host=\"0.0.0.0\", port=\"5000\")\n",
    "    # Production\n",
    "    http_server = WSGIServer(('', 5000), app)\n",
    "    http_server.serve_forever()\n"
   ]
  },
  {
   "cell_type": "code",
   "execution_count": null,
   "id": "bea28f73",
   "metadata": {},
   "outputs": [],
   "source": []
  },
  {
   "cell_type": "code",
   "execution_count": null,
   "id": "369d1290",
   "metadata": {},
   "outputs": [
    {
     "name": "stderr",
     "output_type": "stream",
     "text": [
      "::1 - - [2022-11-25 02:04:19] \"GET / HTTP/1.1\" 200 6304 0.003000\n"
     ]
    },
    {
     "name": "stdout",
     "output_type": "stream",
     "text": [
      "[ 7.3     0.65    0.      1.2     0.065  15.     21.      0.9946  3.39\n",
      "  0.47    9.96  ]\n",
      "[[ 7.3     0.65    0.      1.2     0.065  15.     21.      0.9946  3.39\n",
      "   0.47    9.96  ]]\n",
      "[1]\n"
     ]
    },
    {
     "name": "stderr",
     "output_type": "stream",
     "text": [
      "C:\\Users\\harsh\\anaconda3\\lib\\site-packages\\sklearn\\base.py:450: UserWarning: X does not have valid feature names, but RandomForestClassifier was fitted with feature names\n",
      "  warnings.warn(\n",
      "::1 - - [2022-11-25 02:04:48] \"POST /predict HTTP/1.1\" 200 6316 0.017553\n"
     ]
    },
    {
     "name": "stdout",
     "output_type": "stream",
     "text": [
      "[ 7.3     0.65    0.      1.2     0.065  15.     21.      0.9946  3.39\n",
      "  0.47    9.96  ]\n",
      "[[ 7.3     0.65    0.      1.2     0.065  15.     21.      0.9946  3.39\n",
      "   0.47    9.96  ]]\n",
      "[1]\n"
     ]
    },
    {
     "name": "stderr",
     "output_type": "stream",
     "text": [
      "C:\\Users\\harsh\\anaconda3\\lib\\site-packages\\sklearn\\base.py:450: UserWarning: X does not have valid feature names, but RandomForestClassifier was fitted with feature names\n",
      "  warnings.warn(\n",
      "::1 - - [2022-11-25 02:04:56] \"POST /predict HTTP/1.1\" 200 6316 0.013003\n"
     ]
    },
    {
     "name": "stdout",
     "output_type": "stream",
     "text": [
      "[ 7.3     0.65    0.      1.2     0.065  15.     21.      0.9946  3.39\n",
      "  0.47    9.96  ]\n",
      "[[ 7.3     0.65    0.      1.2     0.065  15.     21.      0.9946  3.39\n",
      "   0.47    9.96  ]]\n",
      "[1]\n"
     ]
    },
    {
     "name": "stderr",
     "output_type": "stream",
     "text": [
      "C:\\Users\\harsh\\anaconda3\\lib\\site-packages\\sklearn\\base.py:450: UserWarning: X does not have valid feature names, but RandomForestClassifier was fitted with feature names\n",
      "  warnings.warn(\n",
      "::1 - - [2022-11-25 02:08:31] \"POST /predict HTTP/1.1\" 200 6316 0.012004\n"
     ]
    },
    {
     "name": "stdout",
     "output_type": "stream",
     "text": [
      "[ 7.3     0.65    0.      1.2     0.065  15.     21.      0.9946  3.39\n",
      "  0.47    9.96  ]\n",
      "[[ 7.3     0.65    0.      1.2     0.065  15.     21.      0.9946  3.39\n",
      "   0.47    9.96  ]]\n",
      "[1]\n"
     ]
    },
    {
     "name": "stderr",
     "output_type": "stream",
     "text": [
      "C:\\Users\\harsh\\anaconda3\\lib\\site-packages\\sklearn\\base.py:450: UserWarning: X does not have valid feature names, but RandomForestClassifier was fitted with feature names\n",
      "  warnings.warn(\n",
      "::1 - - [2022-11-25 02:36:14] \"POST /predict HTTP/1.1\" 200 6316 0.008001\n"
     ]
    },
    {
     "name": "stdout",
     "output_type": "stream",
     "text": [
      "[ 7.3     0.65    0.      1.2     0.065  15.     21.      0.9946  3.39\n",
      "  0.47    9.96  ]\n",
      "[[ 7.3     0.65    0.      1.2     0.065  15.     21.      0.9946  3.39\n",
      "   0.47    9.96  ]]\n",
      "[1]\n"
     ]
    },
    {
     "name": "stderr",
     "output_type": "stream",
     "text": [
      "C:\\Users\\harsh\\anaconda3\\lib\\site-packages\\sklearn\\base.py:450: UserWarning: X does not have valid feature names, but RandomForestClassifier was fitted with feature names\n",
      "  warnings.warn(\n",
      "::1 - - [2022-11-25 02:36:20] \"POST /predict HTTP/1.1\" 200 6316 0.008002\n",
      "::1 - - [2022-11-25 02:37:49] \"GET / HTTP/1.1\" 200 6304 0.001000\n",
      "::1 - - [2022-11-25 02:46:31] \"GET / HTTP/1.1\" 200 6304 0.000000\n"
     ]
    },
    {
     "name": "stdout",
     "output_type": "stream",
     "text": [
      "[ 6.       0.31     0.47     3.6      0.067   18.      42.       0.99549\n",
      "  3.39     0.66    11.     ]\n",
      "[[ 6.       0.31     0.47     3.6      0.067   18.      42.       0.99549\n",
      "   3.39     0.66    11.     ]]\n",
      "[0]\n"
     ]
    },
    {
     "name": "stderr",
     "output_type": "stream",
     "text": [
      "C:\\Users\\harsh\\anaconda3\\lib\\site-packages\\sklearn\\base.py:450: UserWarning: X does not have valid feature names, but RandomForestClassifier was fitted with feature names\n",
      "  warnings.warn(\n",
      "::1 - - [2022-11-25 02:48:39] \"POST /predict HTTP/1.1\" 200 6315 0.010005\n"
     ]
    },
    {
     "name": "stdout",
     "output_type": "stream",
     "text": [
      "[ 6.       0.31     0.47     3.6      0.067   18.      42.       0.99549\n",
      "  3.39     0.66    11.     ]\n",
      "[[ 6.       0.31     0.47     3.6      0.067   18.      42.       0.99549\n",
      "   3.39     0.66    11.     ]]\n",
      "[0]\n",
      "[ 6.       0.31     0.47     3.6      0.067   18.      42.       0.99549\n",
      "  3.39     0.66    11.     ]\n",
      "[[ 6.       0.31     0.47     3.6      0.067   18.      42.       0.99549\n",
      "   3.39     0.66    11.     ]]\n",
      "[0]\n"
     ]
    },
    {
     "name": "stderr",
     "output_type": "stream",
     "text": [
      "C:\\Users\\harsh\\anaconda3\\lib\\site-packages\\sklearn\\base.py:450: UserWarning: X does not have valid feature names, but RandomForestClassifier was fitted with feature names\n",
      "  warnings.warn(\n",
      "::1 - - [2022-11-25 02:49:08] \"POST /predict HTTP/1.1\" 200 6315 0.009153\n",
      "C:\\Users\\harsh\\anaconda3\\lib\\site-packages\\sklearn\\base.py:450: UserWarning: X does not have valid feature names, but RandomForestClassifier was fitted with feature names\n",
      "  warnings.warn(\n",
      "::1 - - [2022-11-25 02:49:08] \"POST /predict HTTP/1.1\" 200 6315 0.009002\n"
     ]
    },
    {
     "name": "stdout",
     "output_type": "stream",
     "text": [
      "[ 6.       0.31     0.47     3.6      0.067   18.      42.       0.99549\n",
      "  3.39     0.66    11.     ]\n",
      "[[ 6.       0.31     0.47     3.6      0.067   18.      42.       0.99549\n",
      "   3.39     0.66    11.     ]]\n",
      "[0]\n"
     ]
    },
    {
     "name": "stderr",
     "output_type": "stream",
     "text": [
      "C:\\Users\\harsh\\anaconda3\\lib\\site-packages\\sklearn\\base.py:450: UserWarning: X does not have valid feature names, but RandomForestClassifier was fitted with feature names\n",
      "  warnings.warn(\n",
      "::1 - - [2022-11-25 02:49:08] \"POST /predict HTTP/1.1\" 200 6315 0.009454\n"
     ]
    },
    {
     "name": "stdout",
     "output_type": "stream",
     "text": [
      "[ 6.       0.31     0.47     3.6      0.067   18.      42.       0.99549\n",
      "  3.39     0.66    11.     ]\n",
      "[[ 6.       0.31     0.47     3.6      0.067   18.      42.       0.99549\n",
      "   3.39     0.66    11.     ]]\n",
      "[0]\n"
     ]
    },
    {
     "name": "stderr",
     "output_type": "stream",
     "text": [
      "C:\\Users\\harsh\\anaconda3\\lib\\site-packages\\sklearn\\base.py:450: UserWarning: X does not have valid feature names, but RandomForestClassifier was fitted with feature names\n",
      "  warnings.warn(\n",
      "::1 - - [2022-11-25 02:49:15] \"POST /predict HTTP/1.1\" 200 6315 0.010003\n",
      "::1 - - [2022-11-25 02:49:20] \"GET / HTTP/1.1\" 200 6304 0.000760\n",
      "C:\\Users\\harsh\\anaconda3\\lib\\site-packages\\sklearn\\base.py:450: UserWarning: X does not have valid feature names, but RandomForestClassifier was fitted with feature names\n",
      "  warnings.warn(\n",
      "[2022-11-25 02:49:26,663] ERROR in app: Exception on /predict [GET]\n",
      "Traceback (most recent call last):\n",
      "  File \"C:\\Users\\harsh\\anaconda3\\lib\\site-packages\\flask\\app.py\", line 2447, in wsgi_app\n",
      "    response = self.full_dispatch_request()\n",
      "  File \"C:\\Users\\harsh\\anaconda3\\lib\\site-packages\\flask\\app.py\", line 1952, in full_dispatch_request\n",
      "    rv = self.handle_user_exception(e)\n",
      "  File \"C:\\Users\\harsh\\anaconda3\\lib\\site-packages\\flask\\app.py\", line 1821, in handle_user_exception\n",
      "    reraise(exc_type, exc_value, tb)\n",
      "  File \"C:\\Users\\harsh\\anaconda3\\lib\\site-packages\\flask\\_compat.py\", line 39, in reraise\n",
      "    raise value\n",
      "  File \"C:\\Users\\harsh\\anaconda3\\lib\\site-packages\\flask\\app.py\", line 1950, in full_dispatch_request\n",
      "    rv = self.dispatch_request()\n",
      "  File \"C:\\Users\\harsh\\anaconda3\\lib\\site-packages\\flask\\app.py\", line 1936, in dispatch_request\n",
      "    return self.view_functions[rule.endpoint](**req.view_args)\n",
      "  File \"C:\\Users\\harsh\\AppData\\Local\\Temp\\ipykernel_24668\\2921891193.py\", line 23, in predict\n",
      "    output=model.predict(final)\n",
      "  File \"C:\\Users\\harsh\\anaconda3\\lib\\site-packages\\sklearn\\ensemble\\_forest.py\", line 832, in predict\n",
      "    proba = self.predict_proba(X)\n",
      "  File \"C:\\Users\\harsh\\anaconda3\\lib\\site-packages\\sklearn\\ensemble\\_forest.py\", line 874, in predict_proba\n",
      "    X = self._validate_X_predict(X)\n",
      "  File \"C:\\Users\\harsh\\anaconda3\\lib\\site-packages\\sklearn\\ensemble\\_forest.py\", line 605, in _validate_X_predict\n",
      "    X = self._validate_data(X, dtype=DTYPE, accept_sparse=\"csr\", reset=False)\n",
      "  File \"C:\\Users\\harsh\\anaconda3\\lib\\site-packages\\sklearn\\base.py\", line 577, in _validate_data\n",
      "    X = check_array(X, input_name=\"X\", **check_params)\n",
      "  File \"C:\\Users\\harsh\\anaconda3\\lib\\site-packages\\sklearn\\utils\\validation.py\", line 918, in check_array\n",
      "    raise ValueError(\n",
      "ValueError: Found array with 0 feature(s) (shape=(1, 0)) while a minimum of 1 is required by RandomForestClassifier.\n"
     ]
    },
    {
     "name": "stdout",
     "output_type": "stream",
     "text": [
      "[]\n",
      "[]\n"
     ]
    },
    {
     "name": "stderr",
     "output_type": "stream",
     "text": [
      "::1 - - [2022-11-25 02:49:26] \"GET /predict HTTP/1.1\" 500 426 0.006001\n"
     ]
    }
   ],
   "source": [
    "from flask import Flask,request, url_for, redirect, render_template\n",
    "import pickle\n",
    "import numpy as np\n",
    "from gevent.pywsgi import WSGIServer\n",
    "\n",
    "app = Flask(__name__)\n",
    "\n",
    "model=pickle.load(open('model.pkl','rb'))\n",
    "\n",
    "\n",
    "@app.route('/')\n",
    "def hello_world():\n",
    "    return render_template(\"new.html\")\n",
    "\n",
    "\n",
    "@app.route('/predict',methods=['POST','GET'])\n",
    "def predict():\n",
    "    int_features=[float(x) for x in request.form.values()]\n",
    "    finall=np.asarray(int_features)\n",
    "    final=finall.reshape(1,-1)\n",
    "    print(finall)\n",
    "    print(final)\n",
    "    output=model.predict(final)\n",
    "    print(output)\n",
    "    if(output==1):\n",
    "        output = \"Good\"\n",
    "    else:\n",
    "         output = \"Bad\"\n",
    "    return render_template('new.html',pred='wine is {}'.format(output))\n",
    "    \n",
    "        \n",
    "\n",
    "if __name__ == '__main__':\n",
    "    # Debug/Development\n",
    "    # app.run(debug=True, host=\"0.0.0.0\", port=\"5000\")\n",
    "    # Production\n",
    "    http_server = WSGIServer(('', 5000), app)\n",
    "    http_server.serve_forever()\n"
   ]
  },
  {
   "cell_type": "code",
   "execution_count": null,
   "id": "4e455ed5",
   "metadata": {},
   "outputs": [],
   "source": []
  }
 ],
 "metadata": {
  "kernelspec": {
   "display_name": "Python 3 (ipykernel)",
   "language": "python",
   "name": "python3"
  },
  "language_info": {
   "codemirror_mode": {
    "name": "ipython",
    "version": 3
   },
   "file_extension": ".py",
   "mimetype": "text/x-python",
   "name": "python",
   "nbconvert_exporter": "python",
   "pygments_lexer": "ipython3",
   "version": "3.10.6"
  },
  "vscode": {
   "interpreter": {
    "hash": "e8899eb02dfbc033aab5733bdae1bd213fa031d40331094008e8673d99ebab63"
   }
  }
 },
 "nbformat": 4,
 "nbformat_minor": 5
}
